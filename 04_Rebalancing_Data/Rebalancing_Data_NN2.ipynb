{
 "cells": [
  {
   "cell_type": "markdown",
   "metadata": {},
   "source": [
    "### Check which method better suits NN2 model, Oversampling or Undersampling"
   ]
  },
  {
   "cell_type": "code",
   "execution_count": null,
   "metadata": {
    "pycharm": {
     "is_executing": true
    }
   },
   "outputs": [],
   "source": [
    "X_tv, X_test, y_tv, y_test = train_test_split(X, y, test_size=0.2, random_state=random_state)\n",
    "X_train, X_validation, y_train, y_validation = train_test_split(X_tv, y_tv,test_size=0.25, random_state=random_state)\n",
    "\n",
    "cv = KFold(n_splits=5,random_state=random_state,shuffle=True)\n",
    "collection = []\n",
    "important_dict = {}\n",
    "\n",
    "# NN2 (Baseline Model)\n",
    "\n",
    "model_nn2 = Sequential()\n",
    "model_nn2.add(Dense(42, activation='tanh', kernel_regularizer=regularizers.l2(0.01), bias_regularizer=regularizers.l2(0.01))) # Input layer\n",
    "model_nn2.add(Dropout(0.2))\n",
    "model_nn2.add(Dense(5, activation='tanh', kernel_regularizer=regularizers.l2(0.01), bias_regularizer=regularizers.l2(0.01))) # hidden layer 1\n",
    "model_nn2.add(Dropout(0.2))\n",
    "model_nn2.add(Dense(5, activation='tanh', kernel_regularizer=regularizers.l2(0.01), bias_regularizer=regularizers.l2(0.01))) # hidden layer 2\n",
    "model_nn2.add(Dropout(0.2))\n",
    "model_nn2.add(Dense(1, activation='sigmoid')) # Output layer\n",
    "model_nn2.compile(loss=BinaryCrossentropy(from_logits=False), optimizer='adam', metrics=[f1, tf.keras.metrics.Precision(), tf.keras.metrics.Recall()])\n",
    "\n",
    "features = list(X_train.columns)\n",
    "\n",
    "X_train = np.array(X_train)\n",
    "y_train = np.array(y_train)\n",
    "\n",
    "for method in ['Oversample','Undersample','Unchanged']:\n",
    "    one_result = {}\n",
    "    important_dict['method'] = method\n",
    "    if method == 'Unchanged':\n",
    "        one_result['method'] = method\n",
    "        print(method)\n",
    "        model_ap_list = []\n",
    "        model_f1_list = []\n",
    "\n",
    "        for fold_train_index,fold_test_index in cv.split(X_train):\n",
    "\n",
    "            X_train_fold = X_train[fold_train_index]\n",
    "            X_test_fold = X_train[fold_test_index]\n",
    "            y_train_fold = y_train[fold_train_index]\n",
    "            y_test_fold = y_train[fold_test_index]\n",
    "            model_nn2.fit(X_train_fold, y_train_fold, epochs=5, callbacks=[EarlyStopping(patience=2)])\n",
    "\n",
    "            fold_pred_prob = model_nn2.predict(X_test_fold)\n",
    "            class_pred = np.where(fold_pred_prob > 0.5, 1, 0)[:, 0]\n",
    "            model_f1 = f1_score(y_test_fold, class_pred)\n",
    "            model_ap = model_nn2.evaluate(X_test_fold, y_test_fold, verbose=0)[2]\n",
    "\n",
    "            print('Average Precision:',model_ap)\n",
    "            print('F1 Score:', model_f1)\n",
    "            model_ap_list.append(model_ap)\n",
    "            model_f1_list.append(model_f1)\n",
    "        one_result['ap'] = np.mean(model_ap)\n",
    "        one_result['f1'] = np.mean(model_f1)\n",
    "        collection.append(one_result)\n",
    "\n",
    "\n",
    "    if method == 'Oversample':\n",
    "        one_result['method'] = method\n",
    "        print(method)\n",
    "        model_ap_list = []\n",
    "        oversampler = RandomOverSampler(sampling_strategy='minority')\n",
    "        model_f1_list = []\n",
    "\n",
    "        for fold_train_index,fold_test_index in cv.split(X_train):\n",
    "\n",
    "            X_train_fold = X_train[fold_train_index]\n",
    "            X_test_fold = X_train[fold_test_index]\n",
    "            y_train_fold = y_train[fold_train_index]\n",
    "            y_test_fold = y_train[fold_test_index]\n",
    "\n",
    "            X_train_fold,y_train_fold = oversampler.fit_resample(X_train_fold,y_train_fold)\n",
    "            model_nn2.fit(X_train_fold,y_train_fold, epochs=5, callbacks=[EarlyStopping(patience=2)])\n",
    "\n",
    "            fold_pred_prob = model_nn2.predict(X_test_fold)\n",
    "            class_pred = np.where(fold_pred_prob > 0.5, 1, 0)[:, 0]\n",
    "            model_f1 = f1_score(y_test_fold, class_pred)\n",
    "            model_ap = model_nn2.evaluate(X_test_fold, y_test_fold, verbose=0)[2]\n",
    "\n",
    "            print('Average Precision:',model_ap)\n",
    "            print('F1 Score:', model_f1)\n",
    "            model_ap_list.append(model_ap)\n",
    "            model_f1_list.append(model_f1)\n",
    "        one_result['ap'] = np.mean(model_ap)\n",
    "        one_result['f1'] = np.mean(model_f1)\n",
    "        collection.append(one_result)\n",
    "\n",
    "    if method == 'Undersample':\n",
    "        one_result['method'] = method\n",
    "        print(method)\n",
    "        model_ap_list = []\n",
    "        undersampler = RandomUnderSampler(sampling_strategy='majority')\n",
    "        model_f1_list = []\n",
    "\n",
    "        for fold_train_index,fold_test_index in cv.split(X_train):\n",
    "\n",
    "            X_train_fold = X_train[fold_train_index]\n",
    "            X_test_fold = X_train[fold_test_index]\n",
    "            y_train_fold = y_train[fold_train_index]\n",
    "            y_test_fold = y_train[fold_test_index]\n",
    "\n",
    "            X_train_fold,y_train_fold = undersampler.fit_resample(X_train_fold,y_train_fold)\n",
    "            model_nn2.fit(X_train_fold,y_train_fold, epochs=5, callbacks=[EarlyStopping(patience=2)])\n",
    "\n",
    "            fold_pred_prob = model_nn2.predict(X_test_fold)\n",
    "            class_pred = np.where(fold_pred_prob > 0.5, 1, 0)[:, 0]\n",
    "            model_f1 = f1_score(y_test_fold, class_pred)\n",
    "            model_ap = model_nn2.evaluate(X_test_fold, y_test_fold, verbose=0)[2]\n",
    "\n",
    "            print('Average Precision:',model_ap)\n",
    "            print('F1 Score:', model_f1)\n",
    "            model_ap_list.append(model_ap)\n",
    "            model_f1_list.append(model_f1)\n",
    "        one_result['ap'] = np.mean(model_ap)\n",
    "        one_result['f1'] = np.mean(model_f1)\n",
    "        collection.append(one_result)"
   ]
  },
  {
   "cell_type": "markdown",
   "source": [
    "### Based on F1 Score, we know that Oversampling better suits NN2 model"
   ],
   "metadata": {
    "collapsed": false
   }
  },
  {
   "cell_type": "code",
   "execution_count": 73,
   "outputs": [
    {
     "data": {
      "text/html": [
       "<div>\n",
       "<style scoped>\n",
       "    .dataframe tbody tr th:only-of-type {\n",
       "        vertical-align: middle;\n",
       "    }\n",
       "\n",
       "    .dataframe tbody tr th {\n",
       "        vertical-align: top;\n",
       "    }\n",
       "\n",
       "    .dataframe thead th {\n",
       "        text-align: right;\n",
       "    }\n",
       "</style>\n",
       "<table border=\"1\" class=\"dataframe\">\n",
       "  <thead>\n",
       "    <tr style=\"text-align: right;\">\n",
       "      <th></th>\n",
       "      <th>method</th>\n",
       "      <th>ap</th>\n",
       "      <th>f1</th>\n",
       "    </tr>\n",
       "  </thead>\n",
       "  <tbody>\n",
       "    <tr>\n",
       "      <th>0</th>\n",
       "      <td>Oversample</td>\n",
       "      <td>0.425917</td>\n",
       "      <td>0.522192</td>\n",
       "    </tr>\n",
       "    <tr>\n",
       "      <th>1</th>\n",
       "      <td>Undersample</td>\n",
       "      <td>0.419024</td>\n",
       "      <td>0.520993</td>\n",
       "    </tr>\n",
       "    <tr>\n",
       "      <th>2</th>\n",
       "      <td>Unchanged</td>\n",
       "      <td>0.618102</td>\n",
       "      <td>0.187910</td>\n",
       "    </tr>\n",
       "  </tbody>\n",
       "</table>\n",
       "</div>"
      ],
      "text/plain": [
       "        method        ap        f1\n",
       "0   Oversample  0.425917  0.522192\n",
       "1  Undersample  0.419024  0.520993\n",
       "2    Unchanged  0.618102  0.187910"
      ]
     },
     "execution_count": 73,
     "metadata": {},
     "output_type": "execute_result"
    }
   ],
   "source": [
    "rebalance_result = pd.DataFrame(collection)\n",
    "rebalance_result"
   ],
   "metadata": {
    "collapsed": false
   }
  }
 ],
 "metadata": {
  "accelerator": "GPU",
  "colab": {
   "background_execution": "on",
   "machine_shape": "hm",
   "name": "Big_data_II_NN_models.ipynb",
   "provenance": []
  },
  "kernelspec": {
   "display_name": "Python 3 (ipykernel)",
   "language": "python",
   "name": "python3"
  },
  "language_info": {
   "codemirror_mode": {
    "name": "ipython",
    "version": 3
   },
   "file_extension": ".py",
   "mimetype": "text/x-python",
   "name": "python",
   "nbconvert_exporter": "python",
   "pygments_lexer": "ipython3",
   "version": "3.8.12"
  }
 },
 "nbformat": 4,
 "nbformat_minor": 1
}
