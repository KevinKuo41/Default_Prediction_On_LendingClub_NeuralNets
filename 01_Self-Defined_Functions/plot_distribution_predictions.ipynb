{
 "cells": [
  {
   "cell_type": "code",
   "execution_count": null,
   "outputs": [],
   "source": [
    "def plot_distribution_predictions(y_proba_pred, y_true, x_bins=20, labels='Our Model', **kargs):\n",
    "    \"\"\"\n",
    "    Prints a Calibration plot with Predicted Probability as the x-axis and Fraction of Truth as the y-axis.\n",
    "    :param y_proba_pred: pd.core.series.Series, The predicted probability data generated from the calibration\n",
    "    :param y_true: pd.core.series.Series, The true label of the samples\n",
    "    :param x_bins: int, Bin the x variable into discrete bins and then estimate the central tendency and a confidence interval\n",
    "    :param labels: str, the tag for the predicted probability data presented in the plot\n",
    "    :param kargs: the parameters in seaborn.regplot\n",
    "    :return: seaborn.plot.plot, a Calibration plot with Predicted Probability as the x-axis and Fraction of Truth as the y-axis\n",
    "    \"\"\"\n",
    "    import seaborn as sns\n",
    "    import matplotlib.pyplot as plt\n",
    "    import pandas as pd\n",
    "    fig, ax = plt.subplots(figsize=(10, 8))\n",
    "\n",
    "    if type(y_proba_pred) == pd.core.series.Series:\n",
    "        y_proba_pred = [y_proba_pred]\n",
    "    if type(labels) == str:\n",
    "        labels = [labels]\n",
    "\n",
    "    for i, proba in enumerate(y_proba_pred):\n",
    "        sns.regplot(x=proba, y=y_true, x_bins=x_bins, fit_reg = False, label=labels[i], x_ci=None, ax=ax, **kargs)\n",
    "\n",
    "    ax.set_ylabel('Fraction of Positives (Truth)', fontsize=14)\n",
    "    ax.set_xlabel('Predicted Probability', fontsize=14)\n",
    "    ax.plot([0, 1], [0, 1], \"k:\", label=\"Perfectly calibrated\")\n",
    "    ax.legend(loc='best')\n",
    "    ax.set_title('Calibration Plot', fontsize=20)\n",
    "    plt.show()"
   ],
   "metadata": {
    "collapsed": false
   }
  }
 ],
 "metadata": {
  "kernelspec": {
   "display_name": "Python 3",
   "language": "python",
   "name": "python3"
  },
  "language_info": {
   "codemirror_mode": {
    "name": "ipython",
    "version": 2
   },
   "file_extension": ".py",
   "mimetype": "text/x-python",
   "name": "python",
   "nbconvert_exporter": "python",
   "pygments_lexer": "ipython2",
   "version": "2.7.6"
  }
 },
 "nbformat": 4,
 "nbformat_minor": 0
}
