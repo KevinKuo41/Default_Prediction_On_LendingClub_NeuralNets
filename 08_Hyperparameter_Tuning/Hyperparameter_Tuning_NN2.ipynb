{
 "cells": [
  {
   "cell_type": "markdown",
   "source": [
    "### Hyper Parameters Tuning for NN2 Model (Conducted on Google Colab)"
   ],
   "metadata": {
    "collapsed": false
   }
  },
  {
   "cell_type": "code",
   "execution_count": 8,
   "outputs": [],
   "source": [
    "X_tv, X_test, y_tv, y_test = train_test_split(X, y, test_size=0.2, random_state=random_state)\n",
    "X_train, X_validation, y_train, y_validation = train_test_split(X_tv, y_tv, test_size=0.25, random_state=random_state)\n",
    "\n",
    "oversampler = RandomOverSampler(sampling_strategy='minority')\n",
    "cv = KFold(n_splits=5,random_state=random_state,shuffle=True)\n",
    "collection = []\n",
    "important_dict = {}\n",
    "\n",
    "X_train = np.array(X_train)\n",
    "y_train = np.array(y_train)"
   ],
   "metadata": {
    "collapsed": false
   }
  },
  {
   "cell_type": "code",
   "execution_count": null,
   "outputs": [],
   "source": [
    "def creating_nn2(hp):\n",
    "    model = Sequential()\n",
    "\n",
    "    unit1 = hp.Int('lay1',min_value=3, max_value = 50, step = 1)\n",
    "    unit2 = hp.Int('lay2',min_value=3, max_value = 50, step = 1)\n",
    "    unit3 = hp.Float('dropout1', min_value=0, max_value=0.5, step=0.1)\n",
    "    unit4 = hp.Float('dropout2', min_value=0, max_value=0.5, step=0.1)\n",
    "    unit5 = hp.Float('dropout3', min_value=0, max_value=0.5, step=0.1)\n",
    "    unit6 = hp.Choice('regularization', values = [1e-1, 1e-2, 1e-3])\n",
    "    learning_rate  = hp.Choice('learning_rate',values=[0.001,0.0001])\n",
    "\n",
    "    model.add(Dense(42, activation='tanh', kernel_regularizer=regularizers.l2(unit6), bias_regularizer=regularizers.l2(unit6), input_shape=(42,)))\n",
    "    model.add(Dropout(unit3))\n",
    "    model.add(Dense(unit1,activation='tanh', kernel_regularizer=regularizers.l2(unit6), bias_regularizer=regularizers.l2(unit6)))\n",
    "    model.add(Dropout(unit4))\n",
    "    model.add(Dense(unit2,activation='tanh', kernel_regularizer=regularizers.l2(unit6), bias_regularizer=regularizers.l2(unit6)))\n",
    "    model.add(Dropout(unit5))\n",
    "    model.add(Dense(1, activation='sigmoid'))\n",
    "\n",
    "\n",
    "    model.compile(optimizer=tf.keras.optimizers.Adam(learning_rate=learning_rate),loss=BinaryCrossentropy(from_logits=False),\n",
    "                  metrics=[f1, tf.keras.metrics.Precision(), tf.keras.metrics.Recall()])\n",
    "\n",
    "    return model"
   ],
   "metadata": {
    "collapsed": false
   }
  },
  {
   "cell_type": "code",
   "execution_count": null,
   "outputs": [],
   "source": [
    "for fold_train_index, fold_test_index in cv.split(X_train):\n",
    "    X_train_fold = X_train[fold_train_index]\n",
    "    X_test_fold = X_train[fold_test_index]\n",
    "    y_train_fold = y_train[fold_train_index]\n",
    "    y_test_fold = y_train[fold_test_index]\n",
    "\n",
    "    X_train_fold, y_train_fold = oversampler.fit_resample(X_train_fold, y_train_fold)\n",
    "    tuner_nn2 = kt.Hyperband(creating_nn2, objective=kt.Objective('val_f1', direction=\"max\"), max_epochs=100)\n",
    "    tuner_nn2.search(X_train_fold, y_train_fold, epochs=50, validation_data=[X_validation, y_validation], shuffle=True,\n",
    "                     callbacks=[ClearTrainingOutput()], batch_size=100)"
   ],
   "metadata": {
    "collapsed": false
   }
  },
  {
   "cell_type": "code",
   "execution_count": null,
   "outputs": [],
   "source": [
    "\"\"\"\n",
    "|Best Value        |hyperparameters\n",
    "|10                |lay1\n",
    "|11                |lay2\n",
    "|0                 |dropout1\n",
    "|0.2               |dropout2\n",
    "|0                 |dropout3\n",
    "|0.001             |regularization\n",
    "|0.001             |learning_rate\n",
    "|100               |tuner/epochs\n",
    "|34                |tuner/initial_epoch\n",
    "|3                 |tuner/bracket\n",
    "|3                 |tuner/round\n",
    "|0203              |tuner/trial_id\n",
    "|0.5250459909439087|F1 Score\n",
    "\"\"\""
   ],
   "metadata": {
    "collapsed": false
   }
  }
 ],
 "metadata": {
  "accelerator": "GPU",
  "colab": {
   "background_execution": "on",
   "machine_shape": "hm",
   "name": "Big_data_II_NN_models.ipynb",
   "provenance": []
  },
  "kernelspec": {
   "display_name": "Python 3 (ipykernel)",
   "language": "python",
   "name": "python3"
  },
  "language_info": {
   "codemirror_mode": {
    "name": "ipython",
    "version": 3
   },
   "file_extension": ".py",
   "mimetype": "text/x-python",
   "name": "python",
   "nbconvert_exporter": "python",
   "pygments_lexer": "ipython3",
   "version": "3.8.12"
  }
 },
 "nbformat": 4,
 "nbformat_minor": 1
}
