{
 "cells": [
  {
   "cell_type": "markdown",
   "id": "9b90bec5",
   "metadata": {},
   "source": [
    "# Features enginneering"
   ]
  },
  {
   "cell_type": "code",
   "execution_count": null,
   "outputs": [],
   "source": [
    "raw = raw_df.copy()"
   ],
   "metadata": {
    "collapsed": false
   }
  },
  {
   "cell_type": "markdown",
   "source": [
    "## (1) Drop Outliers (Samples with values located outside the Mean ± 3 times Standard Deviation)"
   ],
   "metadata": {
    "collapsed": false
   }
  },
  {
   "cell_type": "code",
   "execution_count": null,
   "id": "09143d82",
   "metadata": {
    "pycharm": {
     "is_executing": true
    }
   },
   "outputs": [],
   "source": [
    "# drop outliers: Since we aim to find a general pattern for default prediction,\n",
    "# we got rid of the samples with values located outside the Mean ± 3 times Standard Deviation.\n",
    "cond1 = (raw['annual_inc'])<=(raw['annual_inc'].mean() + 3*raw['annual_inc'].std())\n",
    "cond2 = (raw['annual_inc'])>=(raw['annual_inc'].mean() - 3*raw['annual_inc'].std())\n",
    "raw = raw[cond1&cond2]\n",
    "\n",
    "cond1 = (raw['avg_cur_bal'])<=(raw['avg_cur_bal'].mean() + 3*raw['avg_cur_bal'].std())\n",
    "cond2 = (raw['avg_cur_bal'])>=(raw['avg_cur_bal'].mean() - 3*raw['avg_cur_bal'].std())\n",
    "raw = raw[cond1&cond2]\n",
    "\n",
    "cond1 = (raw['dti'])<=(raw['dti'].mean() + 3*raw['dti'].std())\n",
    "cond2 = (raw['dti'])>=(raw['dti'].mean() - 3*raw['dti'].std())\n",
    "raw = raw[cond1&cond2]\n",
    "\n",
    "cond1 = (raw['installment'])<=(raw['installment'].mean() + 3*raw['installment'].std())\n",
    "cond2 = (raw['installment'])>=(raw['installment'].mean() - 3*raw['installment'].std())\n",
    "raw = raw[cond1&cond2]\n",
    "\n",
    "cond1 = (raw['int_rate'])<=(raw['int_rate'].mean() + 3*raw['int_rate'].std())\n",
    "cond2 = (raw['int_rate'])>=(raw['int_rate'].mean() - 3*raw['int_rate'].std())\n",
    "raw = raw[cond1&cond2]\n",
    "\n",
    "cond1 = (raw['num_actv_bc_tl'])<=(raw['num_actv_bc_tl'].mean() + 3*raw['num_actv_bc_tl'].std())\n",
    "cond2 = (raw['num_actv_bc_tl'])>=(raw['num_actv_bc_tl'].mean() - 3*raw['num_actv_bc_tl'].std())\n",
    "raw = raw[cond1&cond2]\n",
    "\n",
    "cond1 = (raw['num_bc_tl'])<=(raw['num_bc_tl'].mean() + 3*raw['num_bc_tl'].std())\n",
    "cond2 = (raw['num_bc_tl'])>=(raw['num_bc_tl'].mean() - 3*raw['num_bc_tl'].std())\n",
    "raw = raw[cond1&cond2]\n",
    "\n",
    "cond1 = (raw['num_il_tl'])<=(raw['num_il_tl'].mean() + 3*raw['num_il_tl'].std())\n",
    "cond2 = (raw['num_il_tl'])>=(raw['num_il_tl'].mean() - 3*raw['num_il_tl'].std())\n",
    "raw = raw[cond1&cond2]\n",
    "\n",
    "cond1 = (raw['num_op_rev_tl'])<=(raw['num_op_rev_tl'].mean() + 3*raw['num_op_rev_tl'].std())\n",
    "cond2 = (raw['num_op_rev_tl'])>=(raw['num_op_rev_tl'].mean() - 3*raw['num_op_rev_tl'].std())\n",
    "raw = raw[cond1&cond2]\n",
    "\n",
    "cond1 = (raw['num_rev_accts'])<=(raw['num_rev_accts'].mean() + 3*raw['num_rev_accts'].std())\n",
    "cond2 = (raw['num_rev_accts'])>=(raw['num_rev_accts'].mean() - 3*raw['num_rev_accts'].std())\n",
    "raw = raw[cond1&cond2]\n",
    "\n",
    "cond1 = (raw['open_acc'])<=(raw['open_acc'].mean() + 3*raw['open_acc'].std())\n",
    "cond2 = (raw['open_acc'])>=(raw['open_acc'].mean() - 3*raw['open_acc'].std())\n",
    "raw = raw[cond1&cond2]\n",
    "\n",
    "cond1 = (raw['revol_bal'])<=(raw['revol_bal'].mean() + 3*raw['revol_bal'].std())\n",
    "cond2 = (raw['revol_bal'])>=(raw['revol_bal'].mean() - 3*raw['revol_bal'].std())\n",
    "raw = raw[cond1&cond2]\n",
    "\n",
    "cond1 = (raw['revol_util'])<=(raw['revol_util'].mean() + 3*raw['revol_util'].std())\n",
    "cond2 = (raw['revol_util'])>=(raw['revol_util'].mean() - 3*raw['revol_util'].std())\n",
    "raw = raw[cond1&cond2]\n",
    "\n",
    "cond1 = (raw['tot_cur_bal'])<=(raw['tot_cur_bal'].mean() + 3*raw['tot_cur_bal'].std())\n",
    "cond2 = (raw['tot_cur_bal'])>=(raw['tot_cur_bal'].mean() - 3*raw['tot_cur_bal'].std())\n",
    "raw = raw[cond1&cond2]\n",
    "\n",
    "cond1 = (raw['tot_hi_cred_lim'])<=(raw['tot_hi_cred_lim'].mean() + 3*raw['tot_hi_cred_lim'].std())\n",
    "cond2 = (raw['tot_hi_cred_lim'])>=(raw['tot_hi_cred_lim'].mean() - 3*raw['tot_hi_cred_lim'].std())\n",
    "raw = raw[cond1&cond2]\n",
    "\n",
    "cond1 = (raw['total_acc'])<=(raw['total_acc'].mean() + 3*raw['total_acc'].std())\n",
    "cond2 = (raw['total_acc'])>=(raw['total_acc'].mean() - 3*raw['total_acc'].std())\n",
    "raw = raw[cond1&cond2]\n",
    "\n",
    "cond1 = (raw['total_bal_ex_mort'])<=(raw['total_bal_ex_mort'].mean() + 3*raw['total_bal_ex_mort'].std())\n",
    "cond2 = (raw['total_bal_ex_mort'])>=(raw['total_bal_ex_mort'].mean() - 3*raw['total_bal_ex_mort'].std())\n",
    "raw = raw[cond1&cond2]\n",
    "\n",
    "cond1 = (raw['total_bc_limit'])<=(raw['total_bc_limit'].mean() + 3*raw['total_bc_limit'].std())\n",
    "cond2 = (raw['total_bc_limit'])>=(raw['total_bc_limit'].mean() - 3*raw['total_bc_limit'].std())\n",
    "raw = raw[cond1&cond2]\n",
    "cond1 = (raw['loan_amnt'])<=(raw['loan_amnt'].mean() + 3*raw['loan_amnt'].std())\n",
    "cond2 = (raw['loan_amnt'])>=(raw['loan_amnt'].mean() - 3*raw['loan_amnt'].std())\n",
    "raw = raw[cond1&cond2]\n",
    "\n",
    "cond1 = (raw['num_accts_ever_120_pd'])<=(raw['num_accts_ever_120_pd'].mean() + 3*raw['num_accts_ever_120_pd'].std())\n",
    "cond2 = (raw['num_accts_ever_120_pd'])>=(raw['num_accts_ever_120_pd'].mean() - 3*raw['num_accts_ever_120_pd'].std())\n",
    "raw = raw[cond1&cond2]"
   ]
  },
  {
   "cell_type": "markdown",
   "source": [
    "## (2) Feature Mutation & Creation"
   ],
   "metadata": {
    "collapsed": false
   }
  },
  {
   "cell_type": "code",
   "execution_count": null,
   "outputs": [],
   "source": [
    "# For “home_ownership”, we drop the categories that are \"ANY\" and \"NONE\"\n",
    "cond1 = raw['home_ownership'] != 'ANY'\n",
    "cond2 = raw['home_ownership'] != 'NONE'\n",
    "raw = raw[cond1&cond2]\n",
    "\n",
    "# For “int_rate”, we drop the % and convert it to float\n",
    "raw['int_rate'] = raw['int_rate'].apply(lambda x:x[:-1]).astype('float64')\n",
    "\n",
    "# For “revol_util”, we drop the % and convert it to float\n",
    "raw['revol_util'] = raw['revol_util'].fillna('1000%')\n",
    "raw['revol_util'] = raw['revol_util'].apply(lambda x: x[:-1]).astype('float64')\n",
    "raw['revol_util'] = raw['revol_util'].apply(lambda x: np.nan if x==1000 else x)\n",
    "\n",
    "# For categorical variables, we replace 0 with 'no' and 1 with 'yes' and create new feature variables for them.\n",
    "raw['t_delinq_2yrs'] = raw['delinq_2yrs'].apply(lambda x : 'no' if x==0 else 'yes')\n",
    "raw['t_inq_last_6mths'] = raw['inq_last_6mths'].apply(lambda x: 'no' if x==0 else 'yes')\n",
    "raw['t_tax_liens'] = raw['tax_liens'].apply(lambda x : 'no' if x==0 else 'yes')\n",
    "raw['t_open_il_12m'] = raw['open_il_12m'].apply(lambda x : 'no' if x==0 else 'yes')\n",
    "raw['t_pub_rec'] = raw['pub_rec'].apply(lambda x : 'no' if x==0 else 'yes')\n",
    "raw['t_pub_rec_bankruptcies'] = raw['pub_rec_bankruptcies'].apply(lambda x : 'no' if x==0 else 'yes')\n",
    "raw['t_num_tl_90g_dpd_24m'] = raw['num_tl_90g_dpd_24m'].apply(lambda x : 'no' if x==0 else 'yes')\n",
    "\n",
    "# New Feature 1: Active Bankcard Account Ratio = Active Accounts / Total Accounts\n",
    "raw ['active_ratio_bc'] = raw['num_actv_bc_tl'] / raw['num_bc_tl']\n",
    "\n",
    "# New Feature 2: Extracting the 1st letter from “sub_grade” to create a new categorical feature “grade”.\n",
    "raw['grade'] = raw['sub_grade'].apply(lambda x:x[0])\n",
    "\n",
    "# New Feature 3: Open Revolving Account Ratio = Open Revolving Accounts / Total Revolving Accounts\n",
    "raw['open_rev_ratio'] = raw['num_op_rev_tl'] / raw['num_rev_accts']\n",
    "\n",
    "# New Feature 4: Time since the borrower's earliest reported credit line was opened\n",
    "x = pd.to_datetime(raw['issue_d']) - pd.to_datetime(raw['earliest_cr_line'])\n",
    "raw['time_until_fc'] = x.apply(lambda x :x.days)\n",
    "\n",
    "# Here we convert “issue_d“ and “earliest_cr_line“ to integer\n",
    "raw['issue_d'] = pd.to_datetime(raw['issue_d'])\n",
    "raw['issue_d'] = (raw['issue_d'].apply(lambda x :x.strftime('%Y%m%d'))).astype('int')\n",
    "raw['earliest_cr_line'] = pd.to_datetime(raw['earliest_cr_line'])\n",
    "raw['earliest_cr_line'] = (raw['earliest_cr_line'].apply(lambda x :x.strftime('%Y%m%d'))).astype('int')\n",
    "\n",
    "# New Feature 5: Due to 80%+ being NA, we convert “joint” tagged features into a new categorical feature “co-borrower”.\n",
    "coborrower = raw[['revol_bal_joint','annual_inc_joint','dti_joint','verification_status_joint','dti_joint.1']].dropna(how='all').index\n",
    "raw['coborrow'] = 0\n",
    "raw['coborrow'].loc[coborrower] = 1\n",
    "raw['coborrow'] = raw['coborrow'].apply(lambda x:'with_coborrow' if x==1 else 'no_coborrow')\n",
    "\n",
    "# For “active_ratio_bc” and “percent_bc_gt_75“, we replace its NAs with their mean values.\n",
    "raw['active_ratio_bc'] = raw['active_ratio_bc'].fillna(raw['active_ratio_bc'].mean())\n",
    "raw['percent_bc_gt_75'] = raw['percent_bc_gt_75'].fillna(raw['percent_bc_gt_75'].mean())\n",
    "\n",
    "# For “emp_length”, we replace its NAs with “unknown”, as one of the categories.\n",
    "raw['emp_length'] =  raw['emp_length'].fillna('unknown')"
   ],
   "metadata": {
    "collapsed": false
   }
  },
  {
   "cell_type": "markdown",
   "source": [
    "## (3) Removing & Replacing"
   ],
   "metadata": {
    "collapsed": false
   }
  },
  {
   "cell_type": "code",
   "execution_count": null,
   "outputs": [],
   "source": [
    "# (1) Removing:\n",
    "# 1. For features updated after borrowers being default (“total_pymnt”, “total_rec_int”, “total_rec_late_fee”, “total_rec_prncp”),\n",
    "# we exclude them from models, since they were unknown at the time when issuing the loan. (They are highly correlated to Default.)\n",
    "# 2. For features unrelated to default (“zip_code” and “loan_id”), we deleted them all.\n",
    "# 3. For feature “emp_title”, there are 20,000+ kinds of job titles in it. We exclude it from the models.\n",
    "\n",
    "# (2) Replacing:\n",
    "# For features that we mutated above, we only keep the newly created features for them\n",
    "\n",
    "# \"raw\" is for model training & testing\n",
    "ban_list = ['recoveries', 'total_pymnt', 'total_rec_int','total_rec_late_fee', 'total_rec_prncp','delinq_amnt','inq_last_6mths',\n",
    "            'delinq_2yrs','pub_rec', 'tax_liens','pub_rec_bankruptcies','zip_code','emp_title','loan_id','num_tl_90g_dpd_24m',\n",
    "            'open_il_12m', 'revol_bal_joint','annual_inc_joint','dti_joint','verification_status_joint','dti_joint.1']\n",
    "raw = raw.drop(ban_list,axis=1)\n",
    "\n",
    "# we exclude the “total_pymnt” from the ban_list2 (keep it in the data) since the \"continue_raw\" is for analysis but model training\n",
    "ban_list2 = ['recoveries', 'total_rec_int','total_rec_late_fee', 'total_rec_prncp','delinq_amnt', 'inq_last_6mths',\n",
    "             'delinq_2yrs','pub_rec', 'tax_liens','pub_rec_bankruptcies','zip_code','emp_title','loan_id','num_tl_90g_dpd_24m',\n",
    "             'open_il_12m', 'revol_bal_joint','annual_inc_joint','dti_joint','verification_status_joint','dti_joint.1']\n",
    "continue_raw = raw.drop(ban_list2,axis=1)"
   ],
   "metadata": {
    "collapsed": false
   }
  },
  {
   "cell_type": "markdown",
   "id": "0a3122f8",
   "metadata": {},
   "source": [
    "## (4) Label-Encoding the Categorical Features"
   ]
  },
  {
   "cell_type": "code",
   "execution_count": 5,
   "id": "249d50f4",
   "metadata": {},
   "outputs": [],
   "source": [
    "tree_raw = raw.copy()\n",
    "for i in tree_raw.columns:\n",
    "    if tree_raw[i].dtype == 'object':\n",
    "        encoder = LabelEncoder()\n",
    "        temp = encoder.fit_transform(tree_raw[i])\n",
    "        tree_raw[i] = temp\n",
    "# Here we flip the label of the Target Variable\n",
    "tree_raw['loan_status'] = tree_raw['loan_status'].apply(lambda x: 1 if x==0 else 0)\n",
    "\n",
    "continue_tree_raw = continue_raw.copy()\n",
    "for i in continue_tree_raw.columns:\n",
    "    if continue_tree_raw[i].dtype == 'object':\n",
    "        encoder = LabelEncoder()\n",
    "        temp = encoder.fit_transform(continue_tree_raw[i])\n",
    "        continue_tree_raw[i] = temp\n",
    "# Here we flip the label of the Target Variable\n",
    "continue_tree_raw['loan_status'] = continue_tree_raw['loan_status'].apply(lambda x: 1 if x==0 else 0)"
   ]
  },
  {
   "cell_type": "markdown",
   "source": [
    "# (5) Data Scaling (Features Standardisation)"
   ],
   "metadata": {
    "collapsed": false
   }
  },
  {
   "cell_type": "code",
   "execution_count": null,
   "outputs": [],
   "source": [
    "X = tree_raw.drop('loan_status',axis=1)\n",
    "scaler = StandardScaler(copy=True, with_mean=True, with_std=True)\n",
    "X = pd.DataFrame(scaler.fit_transform(X), columns=X.columns)\n",
    "y = tree_raw['loan_status']"
   ],
   "metadata": {
    "collapsed": false
   }
  }
 ],
 "metadata": {
  "kernelspec": {
   "display_name": "Python 3 (ipykernel)",
   "language": "python",
   "name": "python3"
  },
  "language_info": {
   "codemirror_mode": {
    "name": "ipython",
    "version": 3
   },
   "file_extension": ".py",
   "mimetype": "text/x-python",
   "name": "python",
   "nbconvert_exporter": "python",
   "pygments_lexer": "ipython3",
   "version": "3.8.12"
  }
 },
 "nbformat": 4,
 "nbformat_minor": 5
}
